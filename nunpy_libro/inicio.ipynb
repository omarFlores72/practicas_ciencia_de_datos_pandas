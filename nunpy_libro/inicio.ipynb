{
 "cells": [
  {
   "cell_type": "code",
   "execution_count": 2,
   "id": "43b8d194",
   "metadata": {},
   "outputs": [
    {
     "data": {
      "text/plain": [
       "array([ 1,  4,  6,  8, 10])"
      ]
     },
     "execution_count": 2,
     "metadata": {},
     "output_type": "execute_result"
    }
   ],
   "source": [
    "import numpy as np\n",
    "#integer array\n",
    "np.array([1,4,6,8,10])"
   ]
  },
  {
   "cell_type": "code",
   "execution_count": 6,
   "id": "b05252ed",
   "metadata": {},
   "outputs": [
    {
     "data": {
      "text/plain": [
       "array([0, 0, 0, 0, 0, 0, 0, 0, 0, 0])"
      ]
     },
     "execution_count": 6,
     "metadata": {},
     "output_type": "execute_result"
    }
   ],
   "source": [
    "np.zeros(10, dtype=int)"
   ]
  },
  {
   "cell_type": "code",
   "execution_count": 11,
   "id": "7a6fb186",
   "metadata": {},
   "outputs": [
    {
     "data": {
      "text/plain": [
       "array([[3.14, 3.14, 3.14, 3.14, 3.14],\n",
       "       [3.14, 3.14, 3.14, 3.14, 3.14],\n",
       "       [3.14, 3.14, 3.14, 3.14, 3.14]])"
      ]
     },
     "execution_count": 11,
     "metadata": {},
     "output_type": "execute_result"
    }
   ],
   "source": [
    "#crear tabla de 3*5\n",
    "np.ones((3, 5), dtype=float)\n",
    "np.full((3, 5), 3.14)"
   ]
  },
  {
   "cell_type": "code",
   "execution_count": 15,
   "id": "2c33b070",
   "metadata": {},
   "outputs": [
    {
     "data": {
      "text/plain": [
       "array([ 0.  ,  3.75,  7.5 , 11.25, 15.  ])"
      ]
     },
     "execution_count": 15,
     "metadata": {},
     "output_type": "execute_result"
    }
   ],
   "source": [
    "np.arange(0, 22, 2)\n",
    "# Create an array of five values evenly spaced between 0 and 1\n",
    "np.linspace(0, 15, 5 )"
   ]
  },
  {
   "cell_type": "code",
   "execution_count": 20,
   "id": "bd7ea04e",
   "metadata": {},
   "outputs": [
    {
     "data": {
      "text/plain": [
       "array([[0.35830145, 0.02877452, 0.73348345, 0.55434378, 0.74401789,\n",
       "        0.5459675 , 0.08113361],\n",
       "       [0.16666867, 0.92184565, 0.15478857, 0.14223191, 0.56152908,\n",
       "        0.83101341, 0.71797596],\n",
       "       [0.00948562, 0.92004888, 0.22930173, 0.95236906, 0.7504834 ,\n",
       "        0.24380569, 0.16447411]])"
      ]
     },
     "execution_count": 20,
     "metadata": {},
     "output_type": "execute_result"
    }
   ],
   "source": [
    "# Create a 3x3 array of uniformly distributed\n",
    "# random values between 0 and 1\n",
    "np.random.random((3, 7))"
   ]
  },
  {
   "cell_type": "code",
   "execution_count": 22,
   "id": "777309ec",
   "metadata": {},
   "outputs": [
    {
     "data": {
      "text/plain": [
       "array([[-1.09596197, -0.77665513, -0.53473308],\n",
       "       [-1.13467109, -1.65354044, -0.5091634 ],\n",
       "       [-0.50243991,  0.53277172,  0.05386017]])"
      ]
     },
     "execution_count": 22,
     "metadata": {},
     "output_type": "execute_result"
    }
   ],
   "source": [
    "# Create a 3x3 array of normally distributed random values\n",
    "# with mean 0 and standard deviation 1\n",
    "np.random.normal(0, 1, (3, 3))"
   ]
  },
  {
   "cell_type": "code",
   "execution_count": null,
   "id": "d14ae42b",
   "metadata": {},
   "outputs": [
    {
     "data": {
      "text/plain": [
       "array([[9, 6, 2],\n",
       "       [5, 5, 1],\n",
       "       [2, 9, 0]])"
      ]
     },
     "execution_count": 23,
     "metadata": {},
     "output_type": "execute_result"
    }
   ],
   "source": [
    "# Create a 3x3 array of random integers in the interval [0, 10)\n",
    "np.random.randint(0, 10, (3, 3))"
   ]
  },
  {
   "cell_type": "code",
   "execution_count": 29,
   "id": "d77fd933",
   "metadata": {},
   "outputs": [
    {
     "data": {
      "text/plain": [
       "array([[1, 0, 0, 0],\n",
       "       [0, 1, 0, 0],\n",
       "       [0, 0, 1, 0],\n",
       "       [0, 0, 0, 1]])"
      ]
     },
     "execution_count": 29,
     "metadata": {},
     "output_type": "execute_result"
    }
   ],
   "source": [
    "np.eye(4, dtype=int)"
   ]
  },
  {
   "cell_type": "code",
   "execution_count": 33,
   "id": "db501da8",
   "metadata": {},
   "outputs": [
    {
     "data": {
      "text/plain": [
       "array([[[0, 9, 6, 7, 7],\n",
       "        [9, 3, 2, 5, 4],\n",
       "        [4, 5, 6, 9, 1],\n",
       "        [8, 8, 2, 6, 5]],\n",
       "\n",
       "       [[0, 2, 5, 6, 6],\n",
       "        [4, 0, 3, 9, 0],\n",
       "        [4, 6, 2, 7, 9],\n",
       "        [8, 3, 8, 7, 3]],\n",
       "\n",
       "       [[9, 7, 6, 9, 2],\n",
       "        [4, 9, 3, 4, 2],\n",
       "        [8, 1, 9, 6, 3],\n",
       "        [5, 1, 0, 6, 0]]])"
      ]
     },
     "execution_count": 33,
     "metadata": {},
     "output_type": "execute_result"
    }
   ],
   "source": [
    "np.random.seed\n",
    "x1 = np.random.randint(10, size=6) #array de una dimension\n",
    "x2 = np.random.randint(10, size=(3, 4)) ##array de 2 dimeniones\n",
    "x3 = np.random.randint(10, size=(3, 4, 5)) #array de 3 dimensiones\n",
    "x3"
   ]
  }
 ],
 "metadata": {
  "kernelspec": {
   "display_name": "Python 3",
   "language": "python",
   "name": "python3"
  },
  "language_info": {
   "codemirror_mode": {
    "name": "ipython",
    "version": 3
   },
   "file_extension": ".py",
   "mimetype": "text/x-python",
   "name": "python",
   "nbconvert_exporter": "python",
   "pygments_lexer": "ipython3",
   "version": "3.13.1"
  }
 },
 "nbformat": 4,
 "nbformat_minor": 5
}
